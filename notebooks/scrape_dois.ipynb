{
 "cells": [
  {
   "cell_type": "code",
   "execution_count": 1,
   "metadata": {},
   "outputs": [],
   "source": [
    "import requests\n",
    "import json\n",
    "import time\n",
    "import pandas as pd"
   ]
  },
  {
   "attachments": {},
   "cell_type": "markdown",
   "metadata": {},
   "source": [
    "# Data"
   ]
  },
  {
   "cell_type": "code",
   "execution_count": 2,
   "metadata": {},
   "outputs": [],
   "source": [
    "def scrape_dois(doi_list):\n",
    "    base_url = 'https://api.crossref.org/works/'\n",
    "    combined_data = []\n",
    "    failed_dois = []\n",
    "\n",
    "    for doi in doi_list:\n",
    "        url = base_url + doi\n",
    "        response = requests.get(url)\n",
    "\n",
    "        if response.status_code == 200:\n",
    "            data = response.json()\n",
    "            combined_data.append(data)\n",
    "            title = data['message']['title'][0]\n",
    "            # print(f\"DOI: {doi}\\nTitle: {title}\\n\")\n",
    "        else:\n",
    "            failed_dois.append(doi)\n",
    "            print(f\"Failed to retrieve data for DOI: {doi}\\n\")\n",
    "\n",
    "        # Delay between API requests\n",
    "\n",
    "    # Save combined JSON output to a file\n",
    "    with open(\"publications.json\", \"w\") as file:\n",
    "        json.dump(combined_data, file, indent=4)\n",
    "    print(\"Combined JSON output saved to: combined_output.json\")\n",
    "\n",
    "    return combined_data, failed_dois\n"
   ]
  },
  {
   "cell_type": "code",
   "execution_count": 3,
   "metadata": {},
   "outputs": [],
   "source": [
    "df = pd.read_csv('data/dois.csv', header=0)\n",
    "dois = df['DOI'].unique().tolist()"
   ]
  },
  {
   "cell_type": "code",
   "execution_count": 4,
   "metadata": {},
   "outputs": [
    {
     "data": {
      "text/plain": [
       "402"
      ]
     },
     "execution_count": 4,
     "metadata": {},
     "output_type": "execute_result"
    }
   ],
   "source": [
    "len(set(dois))"
   ]
  },
  {
   "cell_type": "code",
   "execution_count": 8,
   "metadata": {},
   "outputs": [],
   "source": [
    "table = []\n",
    "for paper in data:\n",
    "    row = {}\n",
    "    row[\"title\"] = paper['message']['title'][0]\n",
    "    row[\"doi\"] = paper['message']['DOI']\n",
    "    row[\"authors\"] = paper['message']['author']\n",
    "\n",
    "    if paper['message'][\"type\"] == \"journal-article\":\n",
    "        continue\n",
    "    elif paper['message'][\"type\"] == \"book-chapter\":\n",
    "        row['acronym'] = paper['message'][\"container-title\"][1]\n",
    "        \n",
    "    else:\n",
    "        row[\"acronym\"] = paper['message']['event'][\"acronym\"].split(\" \")[0]\n",
    "        \n",
    "    row[\"year\"] = paper['message']['created']['date-parts'][0][0]\n",
    "    table.append(row)\n"
   ]
  },
  {
   "cell_type": "code",
   "execution_count": 9,
   "metadata": {},
   "outputs": [],
   "source": [
    "df = pd.DataFrame(table)"
   ]
  },
  {
   "attachments": {},
   "cell_type": "markdown",
   "metadata": {},
   "source": [
    "### Gephi Export"
   ]
  },
  {
   "cell_type": "code",
   "execution_count": 50,
   "metadata": {},
   "outputs": [],
   "source": [
    "df[\"names\"] = df[\"authors\"].apply(lambda x: \", \".join([author.get(\"given\", \"\") + \" \" + author.get(\"family\", \"\") for author in x]))"
   ]
  },
  {
   "cell_type": "code",
   "execution_count": 52,
   "metadata": {},
   "outputs": [],
   "source": [
    "df[\"names\"].to_csv(\"export/gephi.csv\", index=False)"
   ]
  },
  {
   "attachments": {},
   "cell_type": "markdown",
   "metadata": {},
   "source": [
    "### Json Export"
   ]
  },
  {
   "cell_type": "code",
   "execution_count": 48,
   "metadata": {},
   "outputs": [],
   "source": [
    "with open(\"export/IR_Institute_metadata.json\", \"w\") as file:\n",
    "    json.dump(table, file)"
   ]
  }
 ],
 "metadata": {
  "kernelspec": {
   "display_name": "geo",
   "language": "python",
   "name": "python3"
  },
  "language_info": {
   "codemirror_mode": {
    "name": "ipython",
    "version": 3
   },
   "file_extension": ".py",
   "mimetype": "text/x-python",
   "name": "python",
   "nbconvert_exporter": "python",
   "pygments_lexer": "ipython3",
   "version": "3.8.16"
  },
  "orig_nbformat": 4
 },
 "nbformat": 4,
 "nbformat_minor": 2
}
