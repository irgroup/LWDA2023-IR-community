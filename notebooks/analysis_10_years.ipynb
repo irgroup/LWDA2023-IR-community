{
 "cells": [
  {
   "cell_type": "code",
   "execution_count": 33,
   "metadata": {},
   "outputs": [],
   "source": [
    "import pandas as pd\n",
    "import json\n",
    "\n",
    "conference = \"sigir\"\n",
    "\n",
    "# Load data\n",
    "with open(f\"../data/interim/dblp_{conference}_openalex.jsonl\", \"r\") as file:\n",
    "    publications = [json.loads(line) for line in file]"
   ]
  },
  {
   "cell_type": "code",
   "execution_count": 34,
   "metadata": {},
   "outputs": [],
   "source": [
    "publications_10 = []\n",
    "for publication in publications:\n",
    "    year = publication[\"info\"][\"year\"]\n",
    "    if int(year) >= 2014:\n",
    "        publications_10.append(publication)"
   ]
  },
  {
   "cell_type": "code",
   "execution_count": 35,
   "metadata": {},
   "outputs": [
    {
     "name": "stdout",
     "output_type": "stream",
     "text": [
      "SIGIR has 3454 publications in total.\n"
     ]
    }
   ],
   "source": [
    "print(f\"{conference.upper()} has {len(publications_10)} publications in total.\")"
   ]
  },
  {
   "cell_type": "markdown",
   "metadata": {},
   "source": [
    "# Has openalex"
   ]
  },
  {
   "cell_type": "code",
   "execution_count": 36,
   "metadata": {},
   "outputs": [],
   "source": [
    "with_open_alex = []\n",
    "open_alex_none = []\n",
    "for publication in publications_10:\n",
    "    if publication[\"openalex\"]:\n",
    "        with_open_alex.append(publication)\n",
    "    else:\n",
    "        open_alex_none.append(publication)"
   ]
  },
  {
   "cell_type": "code",
   "execution_count": 37,
   "metadata": {},
   "outputs": [
    {
     "name": "stdout",
     "output_type": "stream",
     "text": [
      "SIGIR has 3147 publications with open alex.\n",
      "SIGIR has 307 publications without open alex.\n"
     ]
    }
   ],
   "source": [
    "print(f\"{conference.upper()} has {len(with_open_alex)} publications with open alex.\")\n",
    "print(f\"{conference.upper()} has {len(open_alex_none)} publications without open alex.\")"
   ]
  },
  {
   "cell_type": "markdown",
   "metadata": {},
   "source": [
    "# Has ror"
   ]
  },
  {
   "cell_type": "code",
   "execution_count": 38,
   "metadata": {},
   "outputs": [],
   "source": [
    "# Load data\n",
    "with open(f\"../data/interim/dblp_{conference}_openalex_ror.jsonl\", \"r\") as file:\n",
    "    publications = [json.loads(line) for line in file]"
   ]
  },
  {
   "cell_type": "code",
   "execution_count": 39,
   "metadata": {},
   "outputs": [],
   "source": [
    "publications_10 = []\n",
    "for publication in publications:\n",
    "    year = publication[\"info\"][\"year\"]\n",
    "    if int(year) >= 2014:\n",
    "        publications_10.append(publication)\n",
    "publications = publications_10"
   ]
  },
  {
   "cell_type": "code",
   "execution_count": 40,
   "metadata": {},
   "outputs": [
    {
     "name": "stdout",
     "output_type": "stream",
     "text": [
      "SIGIR has 0 publications with all ror.\n",
      "SIGIR has 3043 publications with some ror.\n",
      "SIGIR has 104 publications without ror.\n"
     ]
    }
   ],
   "source": [
    "with_all_ror = []\n",
    "with_some_ror = []\n",
    "without_ror = []\n",
    "for publication in publications:\n",
    "    found = [False]\n",
    "    if publication[\"openalex\"]:\n",
    "        for author in publication[\"openalex\"][\"authorships\"]:\n",
    "            found_author = False\n",
    "            for institution in author[\"institutions\"]:\n",
    "                if institution[\"ror_data\"]:\n",
    "                    found_author = True\n",
    "            if found_author:\n",
    "                found.append(True)\n",
    "\n",
    "        if all(found):\n",
    "            with_all_ror.append(publication)\n",
    "        elif any(found):\n",
    "            with_some_ror.append(publication)\n",
    "        else:\n",
    "            without_ror.append(publication)\n",
    "\n",
    "print(f\"{conference.upper()} has {len(with_all_ror)} publications with all ror.\")\n",
    "print(f\"{conference.upper()} has {len(with_some_ror)} publications with some ror.\")\n",
    "print(f\"{conference.upper()} has {len(without_ror)} publications without ror.\")\n",
    "    "
   ]
  },
  {
   "cell_type": "markdown",
   "metadata": {},
   "source": [
    "# GERIT"
   ]
  },
  {
   "cell_type": "code",
   "execution_count": 41,
   "metadata": {},
   "outputs": [],
   "source": [
    "with open(f\"../data/interim/dblp_{conference}_openalex_ror_gerit.jsonl\", \"r\") as file:\n",
    "    publications = [json.loads(line) for line in file]"
   ]
  },
  {
   "cell_type": "code",
   "execution_count": 42,
   "metadata": {},
   "outputs": [],
   "source": [
    "publications_10 = []\n",
    "for publication in publications:\n",
    "    year = publication[\"info\"][\"year\"]\n",
    "    if int(year) >= 2014:\n",
    "        publications_10.append(publication)\n",
    "publications = publications_10"
   ]
  },
  {
   "cell_type": "code",
   "execution_count": 43,
   "metadata": {},
   "outputs": [
    {
     "name": "stdout",
     "output_type": "stream",
     "text": [
      "SIGIR has 0 publications with all GERIT.\n",
      "SIGIR has 138 publications with some GERIT.\n",
      "SIGIR has 3009 publications without GERIT.\n"
     ]
    }
   ],
   "source": [
    "with_all_gerit = []\n",
    "with_some_gerit = []\n",
    "without_gerit = []\n",
    "for publication in publications:\n",
    "    found = [False]\n",
    "    if publication[\"openalex\"]:\n",
    "        for author in publication[\"openalex\"][\"authorships\"]:\n",
    "            found_author = False\n",
    "            for institution in author[\"institutions\"]:\n",
    "                if institution[\"gerit_data\"]:\n",
    "                    found_author = True\n",
    "            if found_author:\n",
    "                found.append(True)\n",
    "\n",
    "        if all(found):\n",
    "            with_all_gerit.append(publication)\n",
    "        elif any(found):\n",
    "            with_some_gerit.append(publication)\n",
    "        else:\n",
    "            without_gerit.append(publication)\n",
    "\n",
    "print(f\"{conference.upper()} has {len(with_all_gerit)} publications with all GERIT.\")\n",
    "print(f\"{conference.upper()} has {len(with_some_gerit)} publications with some GERIT.\")\n",
    "print(f\"{conference.upper()} has {len(without_gerit)} publications without GERIT.\")\n",
    "    "
   ]
  },
  {
   "cell_type": "markdown",
   "metadata": {},
   "source": [
    "# GERMAN"
   ]
  },
  {
   "cell_type": "code",
   "execution_count": 44,
   "metadata": {},
   "outputs": [],
   "source": [
    "# filter for german publications\n",
    "publications_german = []\n",
    "for publication in publications:\n",
    "    german = False\n",
    "    if publication[\"openalex\"]:\n",
    "        for author in publication[\"openalex\"][\"authorships\"]:\n",
    "            if \"DE\" in author[\"countries\"]:\n",
    "                german = True\n",
    "    if german:\n",
    "        publications_german.append(publication)"
   ]
  },
  {
   "cell_type": "code",
   "execution_count": 45,
   "metadata": {},
   "outputs": [
    {
     "name": "stdout",
     "output_type": "stream",
     "text": [
      "SIGIR has 158 german publications.\n"
     ]
    }
   ],
   "source": [
    "print(f\"{conference.upper()} has {len(publications_german)} german publications.\")"
   ]
  },
  {
   "cell_type": "markdown",
   "metadata": {},
   "source": [
    "# German ROR"
   ]
  },
  {
   "cell_type": "code",
   "execution_count": 46,
   "metadata": {},
   "outputs": [
    {
     "name": "stdout",
     "output_type": "stream",
     "text": [
      "SIGIR has 0 publications with all ror.\n",
      "SIGIR has 157 publications with some ror.\n",
      "SIGIR has 1 publications without ror.\n"
     ]
    }
   ],
   "source": [
    "with_all_ror = []\n",
    "with_some_ror = []\n",
    "without_ror = []\n",
    "for publication in publications_german:\n",
    "    found = [False]\n",
    "    if publication[\"openalex\"]:\n",
    "        for author in publication[\"openalex\"][\"authorships\"]:\n",
    "            found_author = False\n",
    "            for institution in author[\"institutions\"]:\n",
    "                if institution[\"ror_data\"]:\n",
    "                    found_author = True\n",
    "            if found_author:\n",
    "                found.append(True)\n",
    "\n",
    "        if all(found):\n",
    "            with_all_ror.append(publication)\n",
    "        elif any(found):\n",
    "            with_some_ror.append(publication)\n",
    "        else:\n",
    "            without_ror.append(publication)\n",
    "\n",
    "print(f\"{conference.upper()} has {len(with_all_ror)} publications with all ror.\")\n",
    "print(f\"{conference.upper()} has {len(with_some_ror)} publications with some ror.\")\n",
    "print(f\"{conference.upper()} has {len(without_ror)} publications without ror.\")\n",
    "    "
   ]
  },
  {
   "cell_type": "markdown",
   "metadata": {},
   "source": [
    "# German with Gerit"
   ]
  },
  {
   "cell_type": "code",
   "execution_count": 47,
   "metadata": {},
   "outputs": [
    {
     "name": "stdout",
     "output_type": "stream",
     "text": [
      "SIGIR has 0 publications with all GERIT.\n",
      "SIGIR has 138 publications with some GERIT.\n",
      "SIGIR has 20 publications without GERIT.\n"
     ]
    }
   ],
   "source": [
    "with_all_gerit = []\n",
    "with_some_gerit = []\n",
    "without_gerit = []\n",
    "for publication in publications_german:\n",
    "    found = [False]\n",
    "    if publication[\"openalex\"]:\n",
    "        for author in publication[\"openalex\"][\"authorships\"]:\n",
    "            found_author = False\n",
    "            for institution in author[\"institutions\"]:\n",
    "                if institution[\"gerit_data\"]:\n",
    "                    found_author = True\n",
    "            if found_author:\n",
    "                found.append(True)\n",
    "\n",
    "        if all(found):\n",
    "            with_all_gerit.append(publication)\n",
    "        elif any(found):\n",
    "            with_some_gerit.append(publication)\n",
    "        else:\n",
    "            without_gerit.append(publication)\n",
    "\n",
    "print(f\"{conference.upper()} has {len(with_all_gerit)} publications with all GERIT.\")\n",
    "print(f\"{conference.upper()} has {len(with_some_gerit)} publications with some GERIT.\")\n",
    "print(f\"{conference.upper()} has {len(without_gerit)} publications without GERIT.\")"
   ]
  },
  {
   "cell_type": "markdown",
   "metadata": {},
   "source": [
    "# Group by year"
   ]
  },
  {
   "cell_type": "code",
   "execution_count": 48,
   "metadata": {},
   "outputs": [],
   "source": [
    "german_publications_year = {}\n",
    "for publication in publications_german:\n",
    "    year = publication[\"info\"][\"year\"]\n",
    "    if year not in german_publications_year:\n",
    "        german_publications_year[year] = 0\n",
    "    german_publications_year[year] += 1"
   ]
  },
  {
   "cell_type": "code",
   "execution_count": 49,
   "metadata": {},
   "outputs": [],
   "source": [
    "# add years without publications\n",
    "for year in range(2014, 2023):\n",
    "    if str(year) not in german_publications_year:\n",
    "        german_publications_year[str(year)] = 0"
   ]
  },
  {
   "cell_type": "code",
   "execution_count": 50,
   "metadata": {},
   "outputs": [
    {
     "data": {
      "text/plain": [
       "<Axes: title={'center': 'Publications at SIGIR with German contribution by year'}>"
      ]
     },
     "execution_count": 50,
     "metadata": {},
     "output_type": "execute_result"
    },
    {
     "data": {
      "image/png": "[encoded data removed]",
      "text/plain": [
       "<Figure size 1500x500 with 1 Axes>"
      ]
     },
     "metadata": {},
     "output_type": "display_data"
    }
   ],
   "source": [
    "# plot by year with gaps if no publications \n",
    "df = pd.DataFrame.from_dict(german_publications_year, orient=\"index\")\n",
    "df.sort_index(ascending=False, inplace=True)\n",
    "df.plot(kind=\"bar\", figsize=(15, 5), title=f\"Publications at {conference.upper()} with German contribution by year\")\n"
   ]
  },
  {
   "cell_type": "code",
   "execution_count": null,
   "metadata": {},
   "outputs": [],
   "source": []
  },
  {
   "cell_type": "code",
   "execution_count": null,
   "metadata": {},
   "outputs": [],
   "source": []
  },
  {
   "cell_type": "code",
   "execution_count": null,
   "metadata": {},
   "outputs": [],
   "source": []
  },
  {
   "cell_type": "code",
   "execution_count": 58,
   "metadata": {},
   "outputs": [],
   "source": [
    "authow_without_any_institutions = 0\n",
    "num_institutions_mentioned = 0\n",
    "num_authors = 0\n",
    "authors_with_ror = 0\n",
    "authors_with_gerit = 0\n",
    "\n",
    "for publication in publications_german:\n",
    "    found = [False]\n",
    "    if publication[\"openalex\"]:\n",
    "        for author in publication[\"openalex\"][\"authorships\"]:\n",
    "            num_authors += 1\n",
    "            if len(author[\"institutions\"]) == 0:\n",
    "                authow_without_any_institutions += 1\n",
    "            else:\n",
    "                num_institutions_mentioned += len(author[\"institutions\"])\n",
    "                for institution in author[\"institutions\"]:\n",
    "                    if institution[\"ror_data\"]:\n",
    "                        authors_with_ror += 1\n",
    "                    if institution[\"gerit_data\"]:\n",
    "                        authors_with_gerit += 1"
   ]
  },
  {
   "cell_type": "code",
   "execution_count": 60,
   "metadata": {},
   "outputs": [
    {
     "name": "stdout",
     "output_type": "stream",
     "text": [
      "SIGIR has 656 authors.\n",
      "SIGIR has 29 authors without any institution.\n",
      "---\n",
      "SIGIR has 659 institutions mentioned.\n",
      "SIGIR has 659 institution with ror.\n",
      "SIGIR has 389 institution with gerit.\n"
     ]
    }
   ],
   "source": [
    "print(f\"{conference.upper()} has {num_authors} authors.\")\n",
    "print(f\"{conference.upper()} has {authow_without_any_institutions} authors without any institution.\")\n",
    "print (\"---\")\n",
    "print(f\"{conference.upper()} has {num_institutions_mentioned} institutions mentioned.\")\n",
    "print(f\"{conference.upper()} has {authors_with_ror} institution with ror.\")\n",
    "print(f\"{conference.upper()} has {authors_with_gerit} institution with gerit.\")\n"
   ]
  },
  {
   "cell_type": "code",
   "execution_count": null,
   "metadata": {},
   "outputs": [],
   "source": []
  }
 ],
 "metadata": {
  "kernelspec": {
   "display_name": ".venv",
   "language": "python",
   "name": "python3"
  },
  "language_info": {
   "codemirror_mode": {
    "name": "ipython",
    "version": 3
   },
   "file_extension": ".py",
   "mimetype": "text/x-python",
   "name": "python",
   "nbconvert_exporter": "python",
   "pygments_lexer": "ipython3",
   "version": "3.12.0"
  }
 },
 "nbformat": 4,
 "nbformat_minor": 2
}
