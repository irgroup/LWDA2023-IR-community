{
 "cells": [
  {
   "cell_type": "code",
   "execution_count": 1,
   "metadata": {},
   "outputs": [],
   "source": [
    "import pandas as pd\n",
    "import geopy"
   ]
  },
  {
   "cell_type": "code",
   "execution_count": 3,
   "metadata": {},
   "outputs": [
    {
     "data": {
      "text/html": [
       "<div>\n",
       "<style scoped>\n",
       "    .dataframe tbody tr th:only-of-type {\n",
       "        vertical-align: middle;\n",
       "    }\n",
       "\n",
       "    .dataframe tbody tr th {\n",
       "        vertical-align: top;\n",
       "    }\n",
       "\n",
       "    .dataframe thead th {\n",
       "        text-align: right;\n",
       "    }\n",
       "</style>\n",
       "<table border=\"1\" class=\"dataframe\">\n",
       "  <thead>\n",
       "    <tr style=\"text-align: right;\">\n",
       "      <th></th>\n",
       "      <th>Institut</th>\n",
       "      <th>Count</th>\n",
       "      <th>Adresse</th>\n",
       "      <th>Homepage</th>\n",
       "    </tr>\n",
       "  </thead>\n",
       "  <tbody>\n",
       "    <tr>\n",
       "      <th>0</th>\n",
       "      <td>Albert-Ludwigs-Universität Freiburg / Technisc...</td>\n",
       "      <td>4</td>\n",
       "      <td>Institut für Informatik\\nAlbert-Ludwigs-Univer...</td>\n",
       "      <td>https://www.informatik.uni-freiburg.de/</td>\n",
       "    </tr>\n",
       "    <tr>\n",
       "      <th>1</th>\n",
       "      <td>Institut für Angewandte Informatik (InfAI) e. V.</td>\n",
       "      <td>5</td>\n",
       "      <td>Institut für Angewandte Informatik (InfAI) e. ...</td>\n",
       "      <td>https://infai.org/</td>\n",
       "    </tr>\n",
       "    <tr>\n",
       "      <th>2</th>\n",
       "      <td>Amazon, Berlin</td>\n",
       "      <td>14</td>\n",
       "      <td>Amazon Development Center Germany GmbH\\nKrause...</td>\n",
       "      <td>https://www.amazon.de/</td>\n",
       "    </tr>\n",
       "    <tr>\n",
       "      <th>3</th>\n",
       "      <td>Bauhaus-Universität Weimar / Fakultät Medien /...</td>\n",
       "      <td>35</td>\n",
       "      <td>Webis Group\\nBauhaus-Universität Weimar\\nFacul...</td>\n",
       "      <td>https://www.uni-weimar.de/en/media/chairs/comp...</td>\n",
       "    </tr>\n",
       "    <tr>\n",
       "      <th>4</th>\n",
       "      <td>Bergische Universität Wuppertal / Fakultät für...</td>\n",
       "      <td>4</td>\n",
       "      <td>Gebäude FZ (Technologiezentrum Wuppertal, W-te...</td>\n",
       "      <td>https://www.tmdt.uni-wuppertal.de/de/</td>\n",
       "    </tr>\n",
       "  </tbody>\n",
       "</table>\n",
       "</div>"
      ],
      "text/plain": [
       "                                            Institut Count  \\\n",
       "0  Albert-Ludwigs-Universität Freiburg / Technisc...     4   \n",
       "1  Institut für Angewandte Informatik (InfAI) e. V.      5   \n",
       "2                                     Amazon, Berlin    14   \n",
       "3  Bauhaus-Universität Weimar / Fakultät Medien /...    35   \n",
       "4  Bergische Universität Wuppertal / Fakultät für...     4   \n",
       "\n",
       "                                             Adresse  \\\n",
       "0  Institut für Informatik\\nAlbert-Ludwigs-Univer...   \n",
       "1  Institut für Angewandte Informatik (InfAI) e. ...   \n",
       "2  Amazon Development Center Germany GmbH\\nKrause...   \n",
       "3  Webis Group\\nBauhaus-Universität Weimar\\nFacul...   \n",
       "4  Gebäude FZ (Technologiezentrum Wuppertal, W-te...   \n",
       "\n",
       "                                            Homepage  \n",
       "0            https://www.informatik.uni-freiburg.de/  \n",
       "1                                 https://infai.org/  \n",
       "2                             https://www.amazon.de/  \n",
       "3  https://www.uni-weimar.de/en/media/chairs/comp...  \n",
       "4              https://www.tmdt.uni-wuppertal.de/de/  "
      ]
     },
     "execution_count": 3,
     "metadata": {},
     "output_type": "execute_result"
    }
   ],
   "source": [
    "df = pd.read_excel(\"IR_Institute_konsolidierte_Liste.xlsx\")\n",
    "df = df.head()\n",
    "df"
   ]
  },
  {
   "cell_type": "code",
   "execution_count": 6,
   "metadata": {},
   "outputs": [
    {
     "data": {
      "text/plain": [
       "'Institut für Informatik\\nAlbert-Ludwigs-Universität Freiburg\\nGeorges-Köhler-Allee 106\\n79110 Freiburg'"
      ]
     },
     "execution_count": 6,
     "metadata": {},
     "output_type": "execute_result"
    }
   ],
   "source": [
    "df.Adresse.iloc[0]"
   ]
  },
  {
   "cell_type": "code",
   "execution_count": 7,
   "metadata": {},
   "outputs": [],
   "source": [
    "import re\n"
   ]
  },
  {
   "cell_type": "code",
   "execution_count": null,
   "metadata": {},
   "outputs": [],
   "source": [
    "# find plz\n",
    "plz = re.findall(r\"/^[\\d]{4,5}/$\", df.Adresse.iloc[0])[0]"
   ]
  },
  {
   "cell_type": "code",
   "execution_count": 18,
   "metadata": {},
   "outputs": [],
   "source": [
    "def find_plz(address):\n",
    "    plz = re.findall(r\"[\\d]{4,5}\", address)\n",
    "    if plz:\n",
    "        return plz[0]\n",
    "    else:\n",
    "        return 0"
   ]
  },
  {
   "cell_type": "code",
   "execution_count": 21,
   "metadata": {},
   "outputs": [],
   "source": [
    "df[\"plz\"] = df.Adresse.apply(find_plz)"
   ]
  },
  {
   "cell_type": "code",
   "execution_count": 36,
   "metadata": {},
   "outputs": [],
   "source": [
    "def clean_address(address):\n",
    "    return \" \".join(address.split(\"\\n\")[-2:])"
   ]
  },
  {
   "cell_type": "code",
   "execution_count": 37,
   "metadata": {},
   "outputs": [],
   "source": [
    "df[\"add_tmp\"] = df[\"Adresse\"].apply(clean_address)"
   ]
  },
  {
   "cell_type": "code",
   "execution_count": 39,
   "metadata": {},
   "outputs": [],
   "source": [
    "locator = geopy.Nominatim(user_agent=\"myGeocoder\")\n",
    "df[\"geo\"] = df[\"add_tmp\"].apply(locator.geocode)\n"
   ]
  },
  {
   "cell_type": "code",
   "execution_count": 41,
   "metadata": {},
   "outputs": [
    {
     "data": {
      "text/plain": [
       "Location(Gebäude 106, 106, Georges-Köhler-Allee, Brühl-Industriegebiet, Brühl, Freiburg im Breisgau, Baden-Württemberg, 79110, Deutschland, (48.0146166, 7.833540550000003, 0.0))"
      ]
     },
     "execution_count": 41,
     "metadata": {},
     "output_type": "execute_result"
    }
   ],
   "source": [
    "df[\"geo\"][0].latitude "
   ]
  },
  {
   "cell_type": "code",
   "execution_count": null,
   "metadata": {},
   "outputs": [],
   "source": []
  }
 ],
 "metadata": {
  "kernelspec": {
   "display_name": "geo",
   "language": "python",
   "name": "python3"
  },
  "language_info": {
   "codemirror_mode": {
    "name": "ipython",
    "version": 3
   },
   "file_extension": ".py",
   "mimetype": "text/x-python",
   "name": "python",
   "nbconvert_exporter": "python",
   "pygments_lexer": "ipython3",
   "version": "3.8.16"
  },
  "orig_nbformat": 4
 },
 "nbformat": 4,
 "nbformat_minor": 2
}
