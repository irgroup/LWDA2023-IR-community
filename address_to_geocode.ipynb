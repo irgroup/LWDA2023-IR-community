{
 "cells": [
  {
   "cell_type": "code",
   "execution_count": 55,
   "metadata": {},
   "outputs": [],
   "source": [
    "import pandas as pd\n",
    "import geopy\n",
    "import re"
   ]
  },
  {
   "cell_type": "code",
   "execution_count": 56,
   "metadata": {},
   "outputs": [],
   "source": [
    "df = pd.read_excel(\"data/IR_Institute_konsolidierte_Liste.xlsx\")"
   ]
  },
  {
   "cell_type": "code",
   "execution_count": 71,
   "metadata": {},
   "outputs": [],
   "source": [
    "def find_plz(address):\n",
    "    plz = re.findall(r\"[\\d]{4,5}\", address)\n",
    "    if plz:\n",
    "        return int(plz[0])\n",
    "    else:\n",
    "        return 0"
   ]
  },
  {
   "cell_type": "code",
   "execution_count": 72,
   "metadata": {},
   "outputs": [],
   "source": [
    "df[\"plz\"] = df.Adresse.apply(find_plz)"
   ]
  },
  {
   "cell_type": "code",
   "execution_count": 59,
   "metadata": {},
   "outputs": [],
   "source": [
    "def clean_address(address):\n",
    "    return \" \".join(address.split(\"\\n\")[-2:])"
   ]
  },
  {
   "cell_type": "code",
   "execution_count": 60,
   "metadata": {},
   "outputs": [],
   "source": [
    "df[\"add_tmp\"] = df[\"Adresse\"].apply(clean_address)"
   ]
  },
  {
   "cell_type": "code",
   "execution_count": 61,
   "metadata": {},
   "outputs": [],
   "source": [
    "locator = geopy.Nominatim(user_agent=\"myGeocoder\")\n",
    "df[\"geo\"] = df[\"add_tmp\"].apply(locator.geocode)\n"
   ]
  },
  {
   "cell_type": "code",
   "execution_count": 62,
   "metadata": {},
   "outputs": [
    {
     "data": {
      "text/plain": [
       "48.0146166"
      ]
     },
     "execution_count": 62,
     "metadata": {},
     "output_type": "execute_result"
    }
   ],
   "source": [
    "df[\"geo\"][0].latitude "
   ]
  },
  {
   "cell_type": "code",
   "execution_count": 63,
   "metadata": {},
   "outputs": [],
   "source": [
    "df[\"lat\"] = df[\"geo\"].apply(lambda x: x.latitude if x else None)\n",
    "df[\"lon\"] = df[\"geo\"].apply(lambda x: x.longitude if x else None)"
   ]
  },
  {
   "cell_type": "code",
   "execution_count": 64,
   "metadata": {},
   "outputs": [],
   "source": [
    "df.drop(\"add_tmp\", axis=1, inplace=True)\n",
    "df.drop(\"geo\", axis=1, inplace=True)"
   ]
  },
  {
   "cell_type": "code",
   "execution_count": 74,
   "metadata": {},
   "outputs": [],
   "source": [
    "df = df.sort_values(\"plz\", ascending=True)\n",
    "df.drop(\"plz\", axis=1, inplace=True)"
   ]
  },
  {
   "cell_type": "code",
   "execution_count": 75,
   "metadata": {},
   "outputs": [
    {
     "data": {
      "text/html": [
       "<div>\n",
       "<style scoped>\n",
       "    .dataframe tbody tr th:only-of-type {\n",
       "        vertical-align: middle;\n",
       "    }\n",
       "\n",
       "    .dataframe tbody tr th {\n",
       "        vertical-align: top;\n",
       "    }\n",
       "\n",
       "    .dataframe thead th {\n",
       "        text-align: right;\n",
       "    }\n",
       "</style>\n",
       "<table border=\"1\" class=\"dataframe\">\n",
       "  <thead>\n",
       "    <tr style=\"text-align: right;\">\n",
       "      <th></th>\n",
       "      <th>Institut</th>\n",
       "      <th>Count</th>\n",
       "      <th>Adresse</th>\n",
       "      <th>Homepage</th>\n",
       "      <th>lat</th>\n",
       "      <th>lon</th>\n",
       "    </tr>\n",
       "  </thead>\n",
       "  <tbody>\n",
       "    <tr>\n",
       "      <th>88</th>\n",
       "      <td>Universität Leipzig / Fakultät für Mathematik ...</td>\n",
       "      <td>2</td>\n",
       "      <td>The Research Group Agile Knowledge Engineering...</td>\n",
       "      <td>https://aksw.org/Groups/KILT.html</td>\n",
       "      <td>NaN</td>\n",
       "      <td>NaN</td>\n",
       "    </tr>\n",
       "    <tr>\n",
       "      <th>67</th>\n",
       "      <td>Technische Universität Dresden / Bereich Berei...</td>\n",
       "      <td>6</td>\n",
       "      <td>Jens Lehmann\\nSchnorrstraße 70\\n01069 Dresden</td>\n",
       "      <td>https://sda.tech/</td>\n",
       "      <td>51.033676</td>\n",
       "      <td>13.742046</td>\n",
       "    </tr>\n",
       "    <tr>\n",
       "      <th>66</th>\n",
       "      <td>Technische Universität Dresden / Fakultät Info...</td>\n",
       "      <td>6</td>\n",
       "      <td>TU Dresden\\nFakultät Informatik\\nProfessur für...</td>\n",
       "      <td>https://wwwdb.inf.tu-dresden.de/</td>\n",
       "      <td>51.025461</td>\n",
       "      <td>13.723109</td>\n",
       "    </tr>\n",
       "    <tr>\n",
       "      <th>36</th>\n",
       "      <td>Hochschule für Wirtschaft und Technik Dresden ...</td>\n",
       "      <td>2</td>\n",
       "      <td>Friedrich-List-Platz 1\\n01069 Dresden</td>\n",
       "      <td>https://www.htw-dresden.de/hochschule/fakultae...</td>\n",
       "      <td>51.037633</td>\n",
       "      <td>13.735081</td>\n",
       "    </tr>\n",
       "    <tr>\n",
       "      <th>86</th>\n",
       "      <td>Universität Leipzig / Fakultät für Mathematik ...</td>\n",
       "      <td>5</td>\n",
       "      <td>ScaDS.AI Dresden/Leipzig\\nLöhrs Carré\\nHumbold...</td>\n",
       "      <td>https://scads.ai/</td>\n",
       "      <td>NaN</td>\n",
       "      <td>NaN</td>\n",
       "    </tr>\n",
       "    <tr>\n",
       "      <th>...</th>\n",
       "      <td>...</td>\n",
       "      <td>...</td>\n",
       "      <td>...</td>\n",
       "      <td>...</td>\n",
       "      <td>...</td>\n",
       "      <td>...</td>\n",
       "    </tr>\n",
       "    <tr>\n",
       "      <th>90</th>\n",
       "      <td>Universität Passau / Fakultät für Informatik u...</td>\n",
       "      <td>2</td>\n",
       "      <td>Universität Passau\\nInnstraße 41\\n94032 Passau</td>\n",
       "      <td>https://www.fim.uni-passau.de/verteilte-inform...</td>\n",
       "      <td>48.566400</td>\n",
       "      <td>13.449608</td>\n",
       "    </tr>\n",
       "    <tr>\n",
       "      <th>73</th>\n",
       "      <td>Universität  Passau / Fakultät für Informatik ...</td>\n",
       "      <td>4</td>\n",
       "      <td>Universität Passau\\nFakultät für Informatik un...</td>\n",
       "      <td>https://www.fim.uni-passau.de/data-science</td>\n",
       "      <td>48.566873</td>\n",
       "      <td>13.451743</td>\n",
       "    </tr>\n",
       "    <tr>\n",
       "      <th>52</th>\n",
       "      <td>Otto-Friedrich-Universität Bamberg / Fakultät ...</td>\n",
       "      <td>1 +</td>\n",
       "      <td>Otto-Friedrich-Universität Bamberg\\nFakultät f...</td>\n",
       "      <td>https://www.uni-bamberg.de/minf/</td>\n",
       "      <td>NaN</td>\n",
       "      <td>NaN</td>\n",
       "    </tr>\n",
       "    <tr>\n",
       "      <th>40</th>\n",
       "      <td>Julius-Maximilians-Universität Würzburg / Faku...</td>\n",
       "      <td>4</td>\n",
       "      <td>Center for Artificial Intelligence and Data Sc...</td>\n",
       "      <td>https://www.uni-wuerzburg.de/caidas/home/</td>\n",
       "      <td>49.782356</td>\n",
       "      <td>9.966797</td>\n",
       "    </tr>\n",
       "    <tr>\n",
       "      <th>3</th>\n",
       "      <td>Bauhaus-Universität Weimar / Fakultät Medien /...</td>\n",
       "      <td>35</td>\n",
       "      <td>Webis Group\\nBauhaus-Universität Weimar\\nFacul...</td>\n",
       "      <td>https://www.uni-weimar.de/en/media/chairs/comp...</td>\n",
       "      <td>50.982563</td>\n",
       "      <td>11.324224</td>\n",
       "    </tr>\n",
       "  </tbody>\n",
       "</table>\n",
       "<p>106 rows × 6 columns</p>\n",
       "</div>"
      ],
      "text/plain": [
       "                                             Institut Count  \\\n",
       "88  Universität Leipzig / Fakultät für Mathematik ...     2   \n",
       "67  Technische Universität Dresden / Bereich Berei...     6   \n",
       "66  Technische Universität Dresden / Fakultät Info...     6   \n",
       "36  Hochschule für Wirtschaft und Technik Dresden ...     2   \n",
       "86  Universität Leipzig / Fakultät für Mathematik ...     5   \n",
       "..                                                ...   ...   \n",
       "90  Universität Passau / Fakultät für Informatik u...     2   \n",
       "73  Universität  Passau / Fakultät für Informatik ...     4   \n",
       "52  Otto-Friedrich-Universität Bamberg / Fakultät ...  1 +    \n",
       "40  Julius-Maximilians-Universität Würzburg / Faku...     4   \n",
       "3   Bauhaus-Universität Weimar / Fakultät Medien /...    35   \n",
       "\n",
       "                                              Adresse  \\\n",
       "88  The Research Group Agile Knowledge Engineering...   \n",
       "67      Jens Lehmann\\nSchnorrstraße 70\\n01069 Dresden   \n",
       "66  TU Dresden\\nFakultät Informatik\\nProfessur für...   \n",
       "36              Friedrich-List-Platz 1\\n01069 Dresden   \n",
       "86  ScaDS.AI Dresden/Leipzig\\nLöhrs Carré\\nHumbold...   \n",
       "..                                                ...   \n",
       "90     Universität Passau\\nInnstraße 41\\n94032 Passau   \n",
       "73  Universität Passau\\nFakultät für Informatik un...   \n",
       "52  Otto-Friedrich-Universität Bamberg\\nFakultät f...   \n",
       "40  Center for Artificial Intelligence and Data Sc...   \n",
       "3   Webis Group\\nBauhaus-Universität Weimar\\nFacul...   \n",
       "\n",
       "                                             Homepage        lat        lon  \n",
       "88                  https://aksw.org/Groups/KILT.html        NaN        NaN  \n",
       "67                                  https://sda.tech/  51.033676  13.742046  \n",
       "66                   https://wwwdb.inf.tu-dresden.de/  51.025461  13.723109  \n",
       "36  https://www.htw-dresden.de/hochschule/fakultae...  51.037633  13.735081  \n",
       "86                                  https://scads.ai/        NaN        NaN  \n",
       "..                                                ...        ...        ...  \n",
       "90  https://www.fim.uni-passau.de/verteilte-inform...  48.566400  13.449608  \n",
       "73         https://www.fim.uni-passau.de/data-science  48.566873  13.451743  \n",
       "52                   https://www.uni-bamberg.de/minf/        NaN        NaN  \n",
       "40          https://www.uni-wuerzburg.de/caidas/home/  49.782356   9.966797  \n",
       "3   https://www.uni-weimar.de/en/media/chairs/comp...  50.982563  11.324224  \n",
       "\n",
       "[106 rows x 6 columns]"
      ]
     },
     "execution_count": 75,
     "metadata": {},
     "output_type": "execute_result"
    }
   ],
   "source": [
    "df"
   ]
  },
  {
   "cell_type": "code",
   "execution_count": 76,
   "metadata": {},
   "outputs": [],
   "source": [
    "df.to_excel(\"data/IR_Institute_konsolidierte_Liste_geocoded.xlsx\")"
   ]
  },
  {
   "cell_type": "code",
   "execution_count": 78,
   "metadata": {},
   "outputs": [],
   "source": [
    "df.to_csv(\"data/IR_Institute_konsolidierte_Liste_geocoded.csv\", index=False)"
   ]
  }
 ],
 "metadata": {
  "kernelspec": {
   "display_name": "geo",
   "language": "python",
   "name": "python3"
  },
  "language_info": {
   "codemirror_mode": {
    "name": "ipython",
    "version": 3
   },
   "file_extension": ".py",
   "mimetype": "text/x-python",
   "name": "python",
   "nbconvert_exporter": "python",
   "pygments_lexer": "ipython3",
   "version": "3.8.16"
  },
  "orig_nbformat": 4
 },
 "nbformat": 4,
 "nbformat_minor": 2
}
