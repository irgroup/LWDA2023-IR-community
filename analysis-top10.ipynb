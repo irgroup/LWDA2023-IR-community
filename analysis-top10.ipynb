{
 "cells": [
  {
   "cell_type": "code",
   "execution_count": 1,
   "metadata": {},
   "outputs": [],
   "source": [
    "import pandas as pd"
   ]
  },
  {
   "cell_type": "code",
   "execution_count": 2,
   "metadata": {},
   "outputs": [],
   "source": [
    "# load data\n",
    "df = pd.read_csv(\"data/publications.csv\")"
   ]
  },
  {
   "attachments": {},
   "cell_type": "markdown",
   "metadata": {},
   "source": [
    "# Fix affiliations"
   ]
  },
  {
   "attachments": {},
   "cell_type": "markdown",
   "metadata": {},
   "source": [
    "### add missing affiliations based on found ones"
   ]
  },
  {
   "cell_type": "code",
   "execution_count": 3,
   "metadata": {},
   "outputs": [],
   "source": [
    "affiliations = df[[\"name\", \"affiliation_clean\", \"Fakultät\", \"Institut / Lehrstuhl / Fachbereich / Ptrofessur\", \"AG / Bereich\", \"Adresse\", \"Homepage\", \"Notiz\"]].drop_duplicates()"
   ]
  },
  {
   "cell_type": "code",
   "execution_count": 4,
   "metadata": {},
   "outputs": [],
   "source": [
    "affiliations = affiliations[~affiliations[\"affiliation_clean\"].isna()]"
   ]
  },
  {
   "cell_type": "code",
   "execution_count": 5,
   "metadata": {},
   "outputs": [],
   "source": [
    "affiliations = affiliations.drop_duplicates(subset=['name'], keep=False)"
   ]
  },
  {
   "cell_type": "code",
   "execution_count": 6,
   "metadata": {},
   "outputs": [],
   "source": [
    "affiliations_dict = affiliations.to_dict(\"records\")"
   ]
  },
  {
   "cell_type": "code",
   "execution_count": 7,
   "metadata": {},
   "outputs": [],
   "source": [
    "affiliations_dict_new = {}\n",
    "for i in affiliations_dict:\n",
    "    if pd.isnull(i[\"affiliation_clean\"]):\n",
    "        continue\n",
    "    else:\n",
    "        affiliations_dict_new[i[\"name\"]] = i"
   ]
  },
  {
   "cell_type": "code",
   "execution_count": 8,
   "metadata": {},
   "outputs": [],
   "source": [
    "for index, row in df.iterrows():\n",
    "    if pd.isnull(row[\"affiliation_clean\"]):\n",
    "        clean_aff = affiliations_dict_new.get(row[\"name\"])\n",
    "        if clean_aff:\n",
    "            df.at[index, \"affiliation_clean\"] = clean_aff[\"affiliation_clean\"]\n",
    "            df.at[index, \"Fakultät\"] = clean_aff[\"Fakultät\"]\n",
    "            df.at[index, \"Institut / Lehrstuhl / Fachbereich / Ptrofessur\"] = clean_aff[\"Institut / Lehrstuhl / Fachbereich / Ptrofessur\"]\n",
    "            df.at[index, \"AG / Bereich\"] = clean_aff[\"AG / Bereich\"]\n",
    "            df.at[index, \"Adresse\"] = clean_aff[\"Adresse\"]\n",
    "            df.at[index, \"Homepage\"] = clean_aff[\"Homepage\"]\n",
    "            df.at[index, \"Notiz\"] = clean_aff[\"Notiz\"]"
   ]
  },
  {
   "cell_type": "code",
   "execution_count": 9,
   "metadata": {},
   "outputs": [
    {
     "data": {
      "text/plain": [
       "name\n",
       "Ingo Scholtes         2\n",
       "Anna-Marie Ortloff    2\n",
       "Maik Fröbe            2\n",
       "Golsa Heidari         1\n",
       "Hannah Bast           1\n",
       "Ricardo Usbeck        1\n",
       "Richard Meyes         1\n",
       "Rishiraj Saha Roy     1\n",
       "Hajira Jabeen         1\n",
       "Hai Dang Tran         1\n",
       "Name: affiliation_clean, dtype: int64"
      ]
     },
     "execution_count": 9,
     "metadata": {},
     "output_type": "execute_result"
    }
   ],
   "source": [
    "df.groupby(\"name\")[\"affiliation_clean\"].nunique().sort_values(ascending=False).head(10)"
   ]
  },
  {
   "attachments": {},
   "cell_type": "markdown",
   "metadata": {},
   "source": [
    "# Analysis"
   ]
  },
  {
   "attachments": {},
   "cell_type": "markdown",
   "metadata": {},
   "source": [
    "### Top 10"
   ]
  },
  {
   "cell_type": "code",
   "execution_count": 10,
   "metadata": {},
   "outputs": [],
   "source": [
    "df[\"New_Group_Name\"] = \"\"\n",
    "for index, row in df.iterrows():\n",
    "    if row[\"AG / Bereich\"] == \"Webis Group\":\n",
    "        df.at[index, \"New_Group_Name\"] = \"| Webis Group | | | |\"\n",
    "    else:\n",
    "\n",
    "        df.at[index, \"New_Group_Name\"] = \"| \"+str(row['affiliation_clean']) +\" | \"+ str(row['Fakultät']) +\" | \"+ str(row['Institut / Lehrstuhl / Fachbereich / Ptrofessur']) +\" | \"+ str(row['AG / Bereich']) +\" |\""
   ]
  },
  {
   "cell_type": "code",
   "execution_count": 11,
   "metadata": {},
   "outputs": [
    {
     "data": {
      "text/plain": [
       "New_Group_Name\n",
       "| nan | nan | nan | nan |                                                                                                                                                                             294\n",
       "| Webis Group | | | |                                                                                                                                                                                  37\n",
       "| Max Planck Institute | nan | nan | Databases and Information Systems |                                                                                                                               30\n",
       "| nan | nan | nan | Forschungszentrum L3S |                                                                                                                                                            28\n",
       "| nan | nan | nan | GESIS - Leibniz-Institut für Sozialwissenschaften |                                                                                                                                13\n",
       "| TIB | nan | nan | Forschungsgruppe Visual Analytics |                                                                                                                                                13\n",
       "| Universität Bonn | Mathematisch-Naturwissenschaftliche Fakultät | Institut für Informatik | Data Science & Intelligent Systems (DSIS) research group |                                               11\n",
       "| Universität Regensburg | Fakultät für Sprach-, Literatur- und Kulturwissenschaften | Institut für Information und Medien, Sprache und Kultur (I:IMSK) | Lehrstuhl für Informationswissenschaft |     10\n",
       "| Universität Mannheim | Fakultät für Wirtschaftsinformatik und Wirtschaftsmathematik | Institut für Informatik und Wirtschaftsinformatik | Data and Web Science Group |                               10\n",
       "| nan | nan | nan | Bosch Center for Artificial Intelligence |                                                                                                                                         10\n",
       "| TH Köln | Institut für Informationswissenschaft & Institut für Informationsmanagement | nan | Information Retrieval Research Group |                                                                  9\n",
       "Name: doi, dtype: int64"
      ]
     },
     "execution_count": 11,
     "metadata": {},
     "output_type": "execute_result"
    }
   ],
   "source": [
    "df.groupby([\"New_Group_Name\"])[\"doi\"].nunique().sort_values(ascending=False).head(11)  # 11 because of the \"nan\" category"
   ]
  },
  {
   "cell_type": "code",
   "execution_count": 12,
   "metadata": {},
   "outputs": [
    {
     "data": {
      "text/plain": [
       "['| Webis Group | | | |',\n",
       " '| Max Planck Institute | nan | nan | Databases and Information Systems |',\n",
       " '| nan | nan | nan | Forschungszentrum L3S |',\n",
       " '| nan | nan | nan | GESIS - Leibniz-Institut für Sozialwissenschaften |',\n",
       " '| TIB | nan | nan | Forschungsgruppe Visual Analytics |',\n",
       " '| Universität Bonn | Mathematisch-Naturwissenschaftliche Fakultät | Institut für Informatik | Data Science & Intelligent Systems (DSIS) research group |',\n",
       " '| Universität Regensburg | Fakultät für Sprach-, Literatur- und Kulturwissenschaften | Institut für Information und Medien, Sprache und Kultur (I:IMSK) | Lehrstuhl für Informationswissenschaft |',\n",
       " '| Universität Mannheim | Fakultät für Wirtschaftsinformatik und Wirtschaftsmathematik | Institut für Informatik und Wirtschaftsinformatik | Data and Web Science Group |',\n",
       " '| nan | nan | nan | Bosch Center for Artificial Intelligence |',\n",
       " '| TH Köln | Institut für Informationswissenschaft & Institut für Informationsmanagement | nan | Information Retrieval Research Group |']"
      ]
     },
     "execution_count": 12,
     "metadata": {},
     "output_type": "execute_result"
    }
   ],
   "source": [
    "df.groupby([\"New_Group_Name\"])[\"doi\"].nunique().sort_values(ascending=False).head(11).to_frame().reset_index()[\"New_Group_Name\"].tolist()[1:]"
   ]
  },
  {
   "cell_type": "code",
   "execution_count": 13,
   "metadata": {},
   "outputs": [],
   "source": [
    "names = {\n",
    "    '| Webis Group | | | |': \"Webis Group\",\n",
    "    '| Max Planck Institute | nan | nan | Databases and Information Systems |': \"Max Planck Institute - Databases and Information Systems\",\n",
    "    '| nan | nan | nan | Forschungszentrum L3S |':\"Forschungszentrum L3S\" ,\n",
    "    '| nan | nan | nan | GESIS - Leibniz-Institut für Sozialwissenschaften |': \"GESIS - Leibniz-Institut für Sozialwissenschaften\",\n",
    "    '| TIB | nan | nan | Forschungsgruppe Visual Analytics |': \"TIB - Forschungsgruppe Visual Analytics\",\n",
    "    '| Universität Bonn | Mathematisch-Naturwissenschaftliche Fakultät | Institut für Informatik | Data Science & Intelligent Systems (DSIS) research group |': \"Universität Bonn - Data Science & Intelligent Systems (DSIS) research group\",\n",
    "    '| Universität Regensburg | Fakultät für Sprach-, Literatur- und Kulturwissenschaften | Institut für Information und Medien, Sprache und Kultur (I:IMSK) | Lehrstuhl für Informationswissenschaft |': \"Universität Regensburg - Lehrstuhl für Informationswissenschaft\",\n",
    "    '| Universität Mannheim | Fakultät für Wirtschaftsinformatik und Wirtschaftsmathematik | Institut für Informatik und Wirtschaftsinformatik | Data and Web Science Group |': \"Universität Mannheim - Data and Web Science Group\",\n",
    "    '| nan | nan | nan | Bosch Center for Artificial Intelligence |': \"Bosch Center for Artificial Intelligence\",\n",
    "    '| TH Köln | Institut für Informationswissenschaft & Institut für Informationsmanagement | nan | Information Retrieval Research Group |': \"TH Köln - Information Retrieval Research Group\"\n",
    " }"
   ]
  },
  {
   "cell_type": "code",
   "execution_count": 14,
   "metadata": {},
   "outputs": [],
   "source": [
    "df[\"New_Group_Name\"] = df[\"New_Group_Name\"].replace(names)"
   ]
  },
  {
   "cell_type": "code",
   "execution_count": 15,
   "metadata": {},
   "outputs": [
    {
     "data": {
      "text/html": [
       "<div>\n",
       "<style scoped>\n",
       "    .dataframe tbody tr th:only-of-type {\n",
       "        vertical-align: middle;\n",
       "    }\n",
       "\n",
       "    .dataframe tbody tr th {\n",
       "        vertical-align: top;\n",
       "    }\n",
       "\n",
       "    .dataframe thead th {\n",
       "        text-align: right;\n",
       "    }\n",
       "</style>\n",
       "<table border=\"1\" class=\"dataframe\">\n",
       "  <thead>\n",
       "    <tr style=\"text-align: right;\">\n",
       "      <th></th>\n",
       "      <th>New_Group_Name</th>\n",
       "      <th>doi</th>\n",
       "    </tr>\n",
       "  </thead>\n",
       "  <tbody>\n",
       "    <tr>\n",
       "      <th>1</th>\n",
       "      <td>Webis Group</td>\n",
       "      <td>37</td>\n",
       "    </tr>\n",
       "    <tr>\n",
       "      <th>2</th>\n",
       "      <td>Max Planck Institute - Databases and Informati...</td>\n",
       "      <td>30</td>\n",
       "    </tr>\n",
       "    <tr>\n",
       "      <th>3</th>\n",
       "      <td>Forschungszentrum L3S</td>\n",
       "      <td>28</td>\n",
       "    </tr>\n",
       "    <tr>\n",
       "      <th>4</th>\n",
       "      <td>GESIS - Leibniz-Institut für Sozialwissenschaften</td>\n",
       "      <td>13</td>\n",
       "    </tr>\n",
       "    <tr>\n",
       "      <th>5</th>\n",
       "      <td>TIB - Forschungsgruppe Visual Analytics</td>\n",
       "      <td>13</td>\n",
       "    </tr>\n",
       "    <tr>\n",
       "      <th>6</th>\n",
       "      <td>Universität Bonn - Data Science &amp; Intelligent ...</td>\n",
       "      <td>11</td>\n",
       "    </tr>\n",
       "    <tr>\n",
       "      <th>7</th>\n",
       "      <td>Universität Regensburg - Lehrstuhl für Informa...</td>\n",
       "      <td>10</td>\n",
       "    </tr>\n",
       "    <tr>\n",
       "      <th>8</th>\n",
       "      <td>Bosch Center for Artificial Intelligence</td>\n",
       "      <td>10</td>\n",
       "    </tr>\n",
       "    <tr>\n",
       "      <th>9</th>\n",
       "      <td>Universität Mannheim - Data and Web Science Group</td>\n",
       "      <td>10</td>\n",
       "    </tr>\n",
       "    <tr>\n",
       "      <th>10</th>\n",
       "      <td>TH Köln - Information Retrieval Research Group</td>\n",
       "      <td>9</td>\n",
       "    </tr>\n",
       "  </tbody>\n",
       "</table>\n",
       "</div>"
      ],
      "text/plain": [
       "                                       New_Group_Name  doi\n",
       "1                                         Webis Group   37\n",
       "2   Max Planck Institute - Databases and Informati...   30\n",
       "3                               Forschungszentrum L3S   28\n",
       "4   GESIS - Leibniz-Institut für Sozialwissenschaften   13\n",
       "5             TIB - Forschungsgruppe Visual Analytics   13\n",
       "6   Universität Bonn - Data Science & Intelligent ...   11\n",
       "7   Universität Regensburg - Lehrstuhl für Informa...   10\n",
       "8            Bosch Center for Artificial Intelligence   10\n",
       "9   Universität Mannheim - Data and Web Science Group   10\n",
       "10     TH Köln - Information Retrieval Research Group    9"
      ]
     },
     "execution_count": 15,
     "metadata": {},
     "output_type": "execute_result"
    }
   ],
   "source": [
    "df.groupby([\"New_Group_Name\"])[\"doi\"].nunique().sort_values(ascending=False).head(11).to_frame().reset_index()[1:]"
   ]
  },
  {
   "cell_type": "code",
   "execution_count": 16,
   "metadata": {},
   "outputs": [],
   "source": [
    "top10_groups = names.values()"
   ]
  },
  {
   "cell_type": "code",
   "execution_count": 17,
   "metadata": {},
   "outputs": [
    {
     "data": {
      "text/plain": [
       "dict_values(['Webis Group', 'Max Planck Institute - Databases and Information Systems', 'Forschungszentrum L3S', 'GESIS - Leibniz-Institut für Sozialwissenschaften', 'TIB - Forschungsgruppe Visual Analytics', 'Universität Bonn - Data Science & Intelligent Systems (DSIS) research group', 'Universität Regensburg - Lehrstuhl für Informationswissenschaft', 'Universität Mannheim - Data and Web Science Group', 'Bosch Center for Artificial Intelligence', 'TH Köln - Information Retrieval Research Group'])"
      ]
     },
     "execution_count": 17,
     "metadata": {},
     "output_type": "execute_result"
    }
   ],
   "source": [
    "top10_groups"
   ]
  },
  {
   "cell_type": "code",
   "execution_count": 18,
   "metadata": {},
   "outputs": [],
   "source": [
    "top10 = df[df[\"New_Group_Name\"].isin(top10_groups)]"
   ]
  },
  {
   "cell_type": "code",
   "execution_count": 23,
   "metadata": {},
   "outputs": [
    {
     "data": {
      "text/plain": [
       "count    156.000000\n",
       "mean       4.833333\n",
       "std        3.244516\n",
       "min        1.000000\n",
       "25%        3.000000\n",
       "50%        4.000000\n",
       "75%        6.000000\n",
       "max       17.000000\n",
       "Name: num_authors, dtype: float64"
      ]
     },
     "execution_count": 23,
     "metadata": {},
     "output_type": "execute_result"
    }
   ],
   "source": [
    "top10.drop_duplicates(\"doi\")[\"num_authors\"].describe()"
   ]
  },
  {
   "attachments": {},
   "cell_type": "markdown",
   "metadata": {},
   "source": [
    "### # publications per group"
   ]
  },
  {
   "cell_type": "code",
   "execution_count": 34,
   "metadata": {},
   "outputs": [],
   "source": [
    "def pubs_by_group(group):\n",
    "    a = top10[top10[\"New_Group_Name\"]==group].groupby(\"doi\").count().index.tolist()\n",
    "    return top10[top10[\"doi\"].isin(a)][[\"title\", \"doi\", \"acronym\", \"year\", \"num_authors\"]].sort_values(by=\"title\").drop_duplicates(\"doi\").reset_index(drop=True)"
   ]
  },
  {
   "cell_type": "code",
   "execution_count": 35,
   "metadata": {},
   "outputs": [],
   "source": [
    "table = {}\n",
    "for group in top10_groups:\n",
    "    g = pubs_by_group(group)\n",
    "\n",
    "    table[group] = {\n",
    "        \"min_authors\": round(g[\"num_authors\"].min()),\n",
    "        \"mean_authors\": round(g[\"num_authors\"].mean()),\n",
    "        \"max_authors\": round(g[\"num_authors\"].max()),\n",
    "        \"Publications\": round(g.count()[\"title\"]),\n",
    "        \"SIGIR\": round(g[g[\"acronym\"] == \"SIGIR\"].count()[\"title\"]),\n",
    "        \"CIKM\": round(g[g[\"acronym\"] == \"CIKM\"].count()[\"title\"]),\n",
    "        \"WWW\": round(g[g[\"acronym\"] == \"WWW\"].count()[\"title\"]),\n",
    "        \"ECIR\": round(g[g[\"acronym\"] == \"ECIR\"].count()[\"title\"]),\n",
    "        \"CHIIR\": round(g[g[\"acronym\"] == \"CHIIR\"].count()[\"title\"]),\n",
    "        \"CLEF\": round(g[g[\"acronym\"] == \"CLEF\"].count()[\"title\"]),\n",
    "    }"
   ]
  },
  {
   "cell_type": "code",
   "execution_count": 36,
   "metadata": {},
   "outputs": [
    {
     "data": {
      "text/html": [
       "<div>\n",
       "<style scoped>\n",
       "    .dataframe tbody tr th:only-of-type {\n",
       "        vertical-align: middle;\n",
       "    }\n",
       "\n",
       "    .dataframe tbody tr th {\n",
       "        vertical-align: top;\n",
       "    }\n",
       "\n",
       "    .dataframe thead th {\n",
       "        text-align: right;\n",
       "    }\n",
       "</style>\n",
       "<table border=\"1\" class=\"dataframe\">\n",
       "  <thead>\n",
       "    <tr style=\"text-align: right;\">\n",
       "      <th></th>\n",
       "      <th>min_authors</th>\n",
       "      <th>mean_authors</th>\n",
       "      <th>max_authors</th>\n",
       "      <th>Publications</th>\n",
       "      <th>SIGIR</th>\n",
       "      <th>CIKM</th>\n",
       "      <th>WWW</th>\n",
       "      <th>ECIR</th>\n",
       "      <th>CHIIR</th>\n",
       "      <th>CLEF</th>\n",
       "    </tr>\n",
       "  </thead>\n",
       "  <tbody>\n",
       "    <tr>\n",
       "      <th>Webis Group</th>\n",
       "      <td>3</td>\n",
       "      <td>8</td>\n",
       "      <td>17</td>\n",
       "      <td>37</td>\n",
       "      <td>6</td>\n",
       "      <td>6</td>\n",
       "      <td>0</td>\n",
       "      <td>13</td>\n",
       "      <td>5</td>\n",
       "      <td>7</td>\n",
       "    </tr>\n",
       "    <tr>\n",
       "      <th>Max Planck Institute - Databases and Information Systems</th>\n",
       "      <td>1</td>\n",
       "      <td>3</td>\n",
       "      <td>6</td>\n",
       "      <td>30</td>\n",
       "      <td>13</td>\n",
       "      <td>7</td>\n",
       "      <td>4</td>\n",
       "      <td>5</td>\n",
       "      <td>1</td>\n",
       "      <td>0</td>\n",
       "    </tr>\n",
       "    <tr>\n",
       "      <th>Forschungszentrum L3S</th>\n",
       "      <td>1</td>\n",
       "      <td>4</td>\n",
       "      <td>12</td>\n",
       "      <td>28</td>\n",
       "      <td>3</td>\n",
       "      <td>10</td>\n",
       "      <td>14</td>\n",
       "      <td>0</td>\n",
       "      <td>1</td>\n",
       "      <td>0</td>\n",
       "    </tr>\n",
       "    <tr>\n",
       "      <th>GESIS - Leibniz-Institut für Sozialwissenschaften</th>\n",
       "      <td>3</td>\n",
       "      <td>5</td>\n",
       "      <td>12</td>\n",
       "      <td>13</td>\n",
       "      <td>1</td>\n",
       "      <td>4</td>\n",
       "      <td>3</td>\n",
       "      <td>0</td>\n",
       "      <td>5</td>\n",
       "      <td>0</td>\n",
       "    </tr>\n",
       "    <tr>\n",
       "      <th>TIB - Forschungsgruppe Visual Analytics</th>\n",
       "      <td>3</td>\n",
       "      <td>5</td>\n",
       "      <td>12</td>\n",
       "      <td>13</td>\n",
       "      <td>3</td>\n",
       "      <td>3</td>\n",
       "      <td>3</td>\n",
       "      <td>2</td>\n",
       "      <td>2</td>\n",
       "      <td>0</td>\n",
       "    </tr>\n",
       "    <tr>\n",
       "      <th>Universität Bonn - Data Science &amp; Intelligent Systems (DSIS) research group</th>\n",
       "      <td>2</td>\n",
       "      <td>5</td>\n",
       "      <td>12</td>\n",
       "      <td>11</td>\n",
       "      <td>1</td>\n",
       "      <td>6</td>\n",
       "      <td>3</td>\n",
       "      <td>0</td>\n",
       "      <td>1</td>\n",
       "      <td>0</td>\n",
       "    </tr>\n",
       "    <tr>\n",
       "      <th>Universität Regensburg - Lehrstuhl für Informationswissenschaft</th>\n",
       "      <td>1</td>\n",
       "      <td>3</td>\n",
       "      <td>6</td>\n",
       "      <td>10</td>\n",
       "      <td>0</td>\n",
       "      <td>0</td>\n",
       "      <td>0</td>\n",
       "      <td>3</td>\n",
       "      <td>7</td>\n",
       "      <td>0</td>\n",
       "    </tr>\n",
       "    <tr>\n",
       "      <th>Universität Mannheim - Data and Web Science Group</th>\n",
       "      <td>2</td>\n",
       "      <td>3</td>\n",
       "      <td>6</td>\n",
       "      <td>10</td>\n",
       "      <td>0</td>\n",
       "      <td>4</td>\n",
       "      <td>5</td>\n",
       "      <td>0</td>\n",
       "      <td>1</td>\n",
       "      <td>0</td>\n",
       "    </tr>\n",
       "    <tr>\n",
       "      <th>Bosch Center for Artificial Intelligence</th>\n",
       "      <td>3</td>\n",
       "      <td>6</td>\n",
       "      <td>10</td>\n",
       "      <td>10</td>\n",
       "      <td>1</td>\n",
       "      <td>5</td>\n",
       "      <td>4</td>\n",
       "      <td>0</td>\n",
       "      <td>0</td>\n",
       "      <td>0</td>\n",
       "    </tr>\n",
       "    <tr>\n",
       "      <th>TH Köln - Information Retrieval Research Group</th>\n",
       "      <td>2</td>\n",
       "      <td>4</td>\n",
       "      <td>7</td>\n",
       "      <td>9</td>\n",
       "      <td>2</td>\n",
       "      <td>0</td>\n",
       "      <td>0</td>\n",
       "      <td>3</td>\n",
       "      <td>0</td>\n",
       "      <td>4</td>\n",
       "    </tr>\n",
       "  </tbody>\n",
       "</table>\n",
       "</div>"
      ],
      "text/plain": [
       "                                                    min_authors  mean_authors  \\\n",
       "Webis Group                                                   3             8   \n",
       "Max Planck Institute - Databases and Informatio...            1             3   \n",
       "Forschungszentrum L3S                                         1             4   \n",
       "GESIS - Leibniz-Institut für Sozialwissenschaften             3             5   \n",
       "TIB - Forschungsgruppe Visual Analytics                       3             5   \n",
       "Universität Bonn - Data Science & Intelligent S...            2             5   \n",
       "Universität Regensburg - Lehrstuhl für Informat...            1             3   \n",
       "Universität Mannheim - Data and Web Science Group             2             3   \n",
       "Bosch Center for Artificial Intelligence                      3             6   \n",
       "TH Köln - Information Retrieval Research Group                2             4   \n",
       "\n",
       "                                                    max_authors  Publications  \\\n",
       "Webis Group                                                  17            37   \n",
       "Max Planck Institute - Databases and Informatio...            6            30   \n",
       "Forschungszentrum L3S                                        12            28   \n",
       "GESIS - Leibniz-Institut für Sozialwissenschaften            12            13   \n",
       "TIB - Forschungsgruppe Visual Analytics                      12            13   \n",
       "Universität Bonn - Data Science & Intelligent S...           12            11   \n",
       "Universität Regensburg - Lehrstuhl für Informat...            6            10   \n",
       "Universität Mannheim - Data and Web Science Group             6            10   \n",
       "Bosch Center for Artificial Intelligence                     10            10   \n",
       "TH Köln - Information Retrieval Research Group                7             9   \n",
       "\n",
       "                                                    SIGIR  CIKM  WWW  ECIR  \\\n",
       "Webis Group                                             6     6    0    13   \n",
       "Max Planck Institute - Databases and Informatio...     13     7    4     5   \n",
       "Forschungszentrum L3S                                   3    10   14     0   \n",
       "GESIS - Leibniz-Institut für Sozialwissenschaften       1     4    3     0   \n",
       "TIB - Forschungsgruppe Visual Analytics                 3     3    3     2   \n",
       "Universität Bonn - Data Science & Intelligent S...      1     6    3     0   \n",
       "Universität Regensburg - Lehrstuhl für Informat...      0     0    0     3   \n",
       "Universität Mannheim - Data and Web Science Group       0     4    5     0   \n",
       "Bosch Center for Artificial Intelligence                1     5    4     0   \n",
       "TH Köln - Information Retrieval Research Group          2     0    0     3   \n",
       "\n",
       "                                                    CHIIR  CLEF  \n",
       "Webis Group                                             5     7  \n",
       "Max Planck Institute - Databases and Informatio...      1     0  \n",
       "Forschungszentrum L3S                                   1     0  \n",
       "GESIS - Leibniz-Institut für Sozialwissenschaften       5     0  \n",
       "TIB - Forschungsgruppe Visual Analytics                 2     0  \n",
       "Universität Bonn - Data Science & Intelligent S...      1     0  \n",
       "Universität Regensburg - Lehrstuhl für Informat...      7     0  \n",
       "Universität Mannheim - Data and Web Science Group       1     0  \n",
       "Bosch Center for Artificial Intelligence                0     0  \n",
       "TH Köln - Information Retrieval Research Group          0     4  "
      ]
     },
     "execution_count": 36,
     "metadata": {},
     "output_type": "execute_result"
    }
   ],
   "source": [
    "pd.DataFrame(table).T"
   ]
  },
  {
   "attachments": {},
   "cell_type": "markdown",
   "metadata": {},
   "source": [
    "### Top Tf-IDF topics"
   ]
  },
  {
   "cell_type": "code",
   "execution_count": 125,
   "metadata": {},
   "outputs": [],
   "source": [
    "import re\n",
    "from sklearn.feature_extraction.text import TfidfVectorizer\n",
    "from nltk.tokenize import word_tokenize\n",
    "from nltk.stem import SnowballStemmer, PorterStemmer\n",
    "from nltk.corpus import stopwords\n",
    "import nltk"
   ]
  },
  {
   "cell_type": "code",
   "execution_count": 137,
   "metadata": {},
   "outputs": [],
   "source": [
    "stemmer = SnowballStemmer('english')\n",
    "# Initialize Porter stemmer\n",
    "stemmer = PorterStemmer()\n",
    "\n",
    "def custom_tokenizer(text):\n",
    "    words = word_tokenize(text)\n",
    "\n",
    "    # Stem words\n",
    "    # stemmed_words = [stemmer.stem(word) for word in words]\n",
    "    \n",
    "    # Remove stopwords\n",
    "    # filtered_words = [word for word in stemmed_words if word not in stopwords.words('english')]\n",
    "    filtered_words = [word for word in words if word not in stopwords.words('english')]\n",
    "    \n",
    "    # Create bi-grams\n",
    "    bi_grams = [' '.join(bi) for bi in zip(filtered_words, filtered_words[1:])]\n",
    "    \n",
    "    return filtered_words + bi_grams\n",
    "\n",
    "vectorizer = TfidfVectorizer(tokenizer=custom_tokenizer)"
   ]
  },
  {
   "cell_type": "code",
   "execution_count": 138,
   "metadata": {},
   "outputs": [],
   "source": [
    "def remove_punctuation(text):\n",
    "    text = re.sub(r'[^\\w\\s]', '', text)\n",
    "    return text"
   ]
  },
  {
   "cell_type": "code",
   "execution_count": 139,
   "metadata": {},
   "outputs": [
    {
     "name": "stderr",
     "output_type": "stream",
     "text": [
      "/tmp/ipykernel_12036/1154186671.py:1: SettingWithCopyWarning: \n",
      "A value is trying to be set on a copy of a slice from a DataFrame.\n",
      "Try using .loc[row_indexer,col_indexer] = value instead\n",
      "\n",
      "See the caveats in the documentation: https://pandas.pydata.org/pandas-docs/stable/user_guide/indexing.html#returning-a-view-versus-a-copy\n",
      "  top10[\"title_clean\"] = top10[\"title\"].apply(remove_punctuation)\n"
     ]
    }
   ],
   "source": [
    "top10[\"title_clean\"] = top10[\"title\"].apply(remove_punctuation)"
   ]
  },
  {
   "cell_type": "code",
   "execution_count": 140,
   "metadata": {},
   "outputs": [],
   "source": [
    "docs = top10.groupby(\"New_Group_Name\").agg({\"title_clean\": \" \".join})"
   ]
  },
  {
   "cell_type": "code",
   "execution_count": 141,
   "metadata": {},
   "outputs": [],
   "source": [
    "vectorizer = TfidfVectorizer(tokenizer=custom_tokenizer)"
   ]
  },
  {
   "cell_type": "code",
   "execution_count": 142,
   "metadata": {},
   "outputs": [
    {
     "name": "stderr",
     "output_type": "stream",
     "text": [
      "/home/jueri/miniconda3/envs/geo/lib/python3.8/site-packages/sklearn/feature_extraction/text.py:528: UserWarning: The parameter 'token_pattern' will not be used since 'tokenizer' is not None'\n",
      "  warnings.warn(\n"
     ]
    }
   ],
   "source": [
    "tfidf_matrix = vectorizer.fit_transform(docs[\"title_clean\"].tolist())"
   ]
  },
  {
   "cell_type": "code",
   "execution_count": 143,
   "metadata": {},
   "outputs": [
    {
     "data": {
      "text/plain": [
       "array(['19', '19 years', '1st', ..., 'years', 'years answering',\n",
       "       'years conversational'], dtype=object)"
      ]
     },
     "execution_count": 143,
     "metadata": {},
     "output_type": "execute_result"
    }
   ],
   "source": [
    "vectorizer.get_feature_names_out()"
   ]
  },
  {
   "cell_type": "code",
   "execution_count": 144,
   "metadata": {},
   "outputs": [],
   "source": [
    "tfidf_df = pd.DataFrame(tfidf_matrix.toarray(), columns=vectorizer.get_feature_names_out())"
   ]
  },
  {
   "cell_type": "code",
   "execution_count": 145,
   "metadata": {},
   "outputs": [],
   "source": [
    "docs.reset_index(inplace=True)\n",
    "docs = pd.concat([docs, tfidf_df], axis=1)\n",
    "docs.set_index(\"New_Group_Name\", inplace=True)\n",
    "docs = docs.drop(\"title_clean\", axis=1)"
   ]
  },
  {
   "cell_type": "code",
   "execution_count": 146,
   "metadata": {},
   "outputs": [],
   "source": [
    "top_100 = {}\n",
    "for c in docs.T.columns:\n",
    "    top = docs.T[c].sort_values(ascending=False)[:100].index.tolist()\n",
    "    top = [x for x in top if not x.isnumeric()]\n",
    "    top_100[c] = top[:20]"
   ]
  },
  {
   "cell_type": "code",
   "execution_count": 151,
   "metadata": {},
   "outputs": [
    {
     "data": {
      "text/html": [
       "<div>\n",
       "<style scoped>\n",
       "    .dataframe tbody tr th:only-of-type {\n",
       "        vertical-align: middle;\n",
       "    }\n",
       "\n",
       "    .dataframe tbody tr th {\n",
       "        vertical-align: top;\n",
       "    }\n",
       "\n",
       "    .dataframe thead th {\n",
       "        text-align: right;\n",
       "    }\n",
       "</style>\n",
       "<table border=\"1\" class=\"dataframe\">\n",
       "  <thead>\n",
       "    <tr style=\"text-align: right;\">\n",
       "      <th></th>\n",
       "      <th>0</th>\n",
       "      <th>1</th>\n",
       "      <th>2</th>\n",
       "      <th>3</th>\n",
       "      <th>4</th>\n",
       "      <th>5</th>\n",
       "      <th>6</th>\n",
       "      <th>7</th>\n",
       "      <th>8</th>\n",
       "      <th>9</th>\n",
       "    </tr>\n",
       "  </thead>\n",
       "  <tbody>\n",
       "    <tr>\n",
       "      <th>Bosch Center for Artificial Intelligence</th>\n",
       "      <td>welding</td>\n",
       "      <td>machine</td>\n",
       "      <td>machine learning</td>\n",
       "      <td>knowledge</td>\n",
       "      <td>knowledge graph</td>\n",
       "      <td>graph</td>\n",
       "      <td>executable knowledge</td>\n",
       "      <td>executable</td>\n",
       "      <td>enhancing knowledge</td>\n",
       "      <td>enhancing</td>\n",
       "    </tr>\n",
       "    <tr>\n",
       "      <th>Forschungszentrum L3S</th>\n",
       "      <td>neural</td>\n",
       "      <td>using</td>\n",
       "      <td>forward</td>\n",
       "      <td>ranking using</td>\n",
       "      <td>model</td>\n",
       "      <td>indexes</td>\n",
       "      <td>using forward</td>\n",
       "      <td>forward indexes</td>\n",
       "      <td>neural ranking</td>\n",
       "      <td>efficient neural</td>\n",
       "    </tr>\n",
       "    <tr>\n",
       "      <th>GESIS - Leibniz-Institut für Sozialwissenschaften</th>\n",
       "      <td>language queries</td>\n",
       "      <td>knowledge</td>\n",
       "      <td>knowledge base</td>\n",
       "      <td>base</td>\n",
       "      <td>natural language</td>\n",
       "      <td>natural</td>\n",
       "      <td>language</td>\n",
       "      <td>tweetscov19</td>\n",
       "      <td>covid19</td>\n",
       "      <td>queries</td>\n",
       "    </tr>\n",
       "    <tr>\n",
       "      <th>Max Planck Institute - Databases and Information Systems</th>\n",
       "      <td>answering</td>\n",
       "      <td>conversational question</td>\n",
       "      <td>question answering</td>\n",
       "      <td>question</td>\n",
       "      <td>knowledge</td>\n",
       "      <td>conversational</td>\n",
       "      <td>explanations</td>\n",
       "      <td>facts</td>\n",
       "      <td>quantity facts</td>\n",
       "      <td>quantity</td>\n",
       "    </tr>\n",
       "    <tr>\n",
       "      <th>TH Köln - Information Retrieval Research Group</th>\n",
       "      <td>experiments</td>\n",
       "      <td>ir experiments</td>\n",
       "      <td>ir</td>\n",
       "      <td>living</td>\n",
       "      <td>systemoriented</td>\n",
       "      <td>lilas</td>\n",
       "      <td>reproducibility</td>\n",
       "      <td>systemoriented ir</td>\n",
       "      <td>schema ir</td>\n",
       "      <td>academic search</td>\n",
       "    </tr>\n",
       "    <tr>\n",
       "      <th>TIB - Forschungsgruppe Visual Analytics</th>\n",
       "      <td>multimodal</td>\n",
       "      <td>geolocation</td>\n",
       "      <td>search</td>\n",
       "      <td>news</td>\n",
       "      <td>web</td>\n",
       "      <td>international workshop</td>\n",
       "      <td>international</td>\n",
       "      <td>workshop</td>\n",
       "      <td>image</td>\n",
       "      <td>layouts</td>\n",
       "    </tr>\n",
       "    <tr>\n",
       "      <th>Universität Bonn - Data Science &amp; Intelligent Systems (DSIS) research group</th>\n",
       "      <td>knowledge</td>\n",
       "      <td>knowledge graph</td>\n",
       "      <td>graph</td>\n",
       "      <td>international workshop</td>\n",
       "      <td>international</td>\n",
       "      <td>openstreetmap</td>\n",
       "      <td>worldscale geographic</td>\n",
       "      <td>worldscale</td>\n",
       "      <td>worldkg worldscale</td>\n",
       "      <td>worldkg</td>\n",
       "    </tr>\n",
       "    <tr>\n",
       "      <th>Universität Mannheim - Data and Web Science Group</th>\n",
       "      <td>matching</td>\n",
       "      <td>detection</td>\n",
       "      <td>using</td>\n",
       "      <td>sentiment stance</td>\n",
       "      <td>learning product</td>\n",
       "      <td>using sentiment</td>\n",
       "      <td>recommender systems</td>\n",
       "      <td>news recommender</td>\n",
       "      <td>bias news</td>\n",
       "      <td>systems using</td>\n",
       "    </tr>\n",
       "    <tr>\n",
       "      <th>Universität Regensburg - Lehrstuhl für Informationswissenschaft</th>\n",
       "      <td>snippets</td>\n",
       "      <td>featured snippets</td>\n",
       "      <td>featured</td>\n",
       "      <td>influence</td>\n",
       "      <td>investigating influence</td>\n",
       "      <td>attitudes</td>\n",
       "      <td>privacy</td>\n",
       "      <td>user attitudes</td>\n",
       "      <td>snippets user</td>\n",
       "      <td>influence featured</td>\n",
       "    </tr>\n",
       "    <tr>\n",
       "      <th>Webis Group</th>\n",
       "      <td>overview</td>\n",
       "      <td>argument</td>\n",
       "      <td>touché</td>\n",
       "      <td>overview touché</td>\n",
       "      <td>retrieval</td>\n",
       "      <td>argument retrieval</td>\n",
       "      <td>questions</td>\n",
       "      <td>retrieval overview</td>\n",
       "      <td>information retrieval</td>\n",
       "      <td>pan</td>\n",
       "    </tr>\n",
       "  </tbody>\n",
       "</table>\n",
       "</div>"
      ],
      "text/plain": [
       "                                                                   0  \\\n",
       "Bosch Center for Artificial Intelligence                     welding   \n",
       "Forschungszentrum L3S                                         neural   \n",
       "GESIS - Leibniz-Institut für Sozialwissenschaften   language queries   \n",
       "Max Planck Institute - Databases and Informatio...         answering   \n",
       "TH Köln - Information Retrieval Research Group           experiments   \n",
       "TIB - Forschungsgruppe Visual Analytics                   multimodal   \n",
       "Universität Bonn - Data Science & Intelligent S...         knowledge   \n",
       "Universität Mannheim - Data and Web Science Group           matching   \n",
       "Universität Regensburg - Lehrstuhl für Informat...          snippets   \n",
       "Webis Group                                                 overview   \n",
       "\n",
       "                                                                          1  \\\n",
       "Bosch Center for Artificial Intelligence                            machine   \n",
       "Forschungszentrum L3S                                                 using   \n",
       "GESIS - Leibniz-Institut für Sozialwissenschaften                 knowledge   \n",
       "Max Planck Institute - Databases and Informatio...  conversational question   \n",
       "TH Köln - Information Retrieval Research Group               ir experiments   \n",
       "TIB - Forschungsgruppe Visual Analytics                         geolocation   \n",
       "Universität Bonn - Data Science & Intelligent S...          knowledge graph   \n",
       "Universität Mannheim - Data and Web Science Group                 detection   \n",
       "Universität Regensburg - Lehrstuhl für Informat...        featured snippets   \n",
       "Webis Group                                                        argument   \n",
       "\n",
       "                                                                     2  \\\n",
       "Bosch Center for Artificial Intelligence              machine learning   \n",
       "Forschungszentrum L3S                                          forward   \n",
       "GESIS - Leibniz-Institut für Sozialwissenschaften       knowledge base   \n",
       "Max Planck Institute - Databases and Informatio...  question answering   \n",
       "TH Köln - Information Retrieval Research Group                      ir   \n",
       "TIB - Forschungsgruppe Visual Analytics                         search   \n",
       "Universität Bonn - Data Science & Intelligent S...               graph   \n",
       "Universität Mannheim - Data and Web Science Group                using   \n",
       "Universität Regensburg - Lehrstuhl für Informat...            featured   \n",
       "Webis Group                                                     touché   \n",
       "\n",
       "                                                                         3  \\\n",
       "Bosch Center for Artificial Intelligence                         knowledge   \n",
       "Forschungszentrum L3S                                        ranking using   \n",
       "GESIS - Leibniz-Institut für Sozialwissenschaften                     base   \n",
       "Max Planck Institute - Databases and Informatio...                question   \n",
       "TH Köln - Information Retrieval Research Group                      living   \n",
       "TIB - Forschungsgruppe Visual Analytics                               news   \n",
       "Universität Bonn - Data Science & Intelligent S...  international workshop   \n",
       "Universität Mannheim - Data and Web Science Group         sentiment stance   \n",
       "Universität Regensburg - Lehrstuhl für Informat...               influence   \n",
       "Webis Group                                                overview touché   \n",
       "\n",
       "                                                                          4  \\\n",
       "Bosch Center for Artificial Intelligence                    knowledge graph   \n",
       "Forschungszentrum L3S                                                 model   \n",
       "GESIS - Leibniz-Institut für Sozialwissenschaften          natural language   \n",
       "Max Planck Institute - Databases and Informatio...                knowledge   \n",
       "TH Köln - Information Retrieval Research Group               systemoriented   \n",
       "TIB - Forschungsgruppe Visual Analytics                                 web   \n",
       "Universität Bonn - Data Science & Intelligent S...            international   \n",
       "Universität Mannheim - Data and Web Science Group          learning product   \n",
       "Universität Regensburg - Lehrstuhl für Informat...  investigating influence   \n",
       "Webis Group                                                       retrieval   \n",
       "\n",
       "                                                                         5  \\\n",
       "Bosch Center for Artificial Intelligence                             graph   \n",
       "Forschungszentrum L3S                                              indexes   \n",
       "GESIS - Leibniz-Institut für Sozialwissenschaften                  natural   \n",
       "Max Planck Institute - Databases and Informatio...          conversational   \n",
       "TH Köln - Information Retrieval Research Group                       lilas   \n",
       "TIB - Forschungsgruppe Visual Analytics             international workshop   \n",
       "Universität Bonn - Data Science & Intelligent S...           openstreetmap   \n",
       "Universität Mannheim - Data and Web Science Group          using sentiment   \n",
       "Universität Regensburg - Lehrstuhl für Informat...               attitudes   \n",
       "Webis Group                                             argument retrieval   \n",
       "\n",
       "                                                                        6  \\\n",
       "Bosch Center for Artificial Intelligence             executable knowledge   \n",
       "Forschungszentrum L3S                                       using forward   \n",
       "GESIS - Leibniz-Institut für Sozialwissenschaften                language   \n",
       "Max Planck Institute - Databases and Informatio...           explanations   \n",
       "TH Köln - Information Retrieval Research Group            reproducibility   \n",
       "TIB - Forschungsgruppe Visual Analytics                     international   \n",
       "Universität Bonn - Data Science & Intelligent S...  worldscale geographic   \n",
       "Universität Mannheim - Data and Web Science Group     recommender systems   \n",
       "Universität Regensburg - Lehrstuhl für Informat...                privacy   \n",
       "Webis Group                                                     questions   \n",
       "\n",
       "                                                                     7  \\\n",
       "Bosch Center for Artificial Intelligence                    executable   \n",
       "Forschungszentrum L3S                                  forward indexes   \n",
       "GESIS - Leibniz-Institut für Sozialwissenschaften          tweetscov19   \n",
       "Max Planck Institute - Databases and Informatio...               facts   \n",
       "TH Köln - Information Retrieval Research Group       systemoriented ir   \n",
       "TIB - Forschungsgruppe Visual Analytics                       workshop   \n",
       "Universität Bonn - Data Science & Intelligent S...          worldscale   \n",
       "Universität Mannheim - Data and Web Science Group     news recommender   \n",
       "Universität Regensburg - Lehrstuhl für Informat...      user attitudes   \n",
       "Webis Group                                         retrieval overview   \n",
       "\n",
       "                                                                        8  \\\n",
       "Bosch Center for Artificial Intelligence              enhancing knowledge   \n",
       "Forschungszentrum L3S                                      neural ranking   \n",
       "GESIS - Leibniz-Institut für Sozialwissenschaften                 covid19   \n",
       "Max Planck Institute - Databases and Informatio...         quantity facts   \n",
       "TH Köln - Information Retrieval Research Group                  schema ir   \n",
       "TIB - Forschungsgruppe Visual Analytics                             image   \n",
       "Universität Bonn - Data Science & Intelligent S...     worldkg worldscale   \n",
       "Universität Mannheim - Data and Web Science Group               bias news   \n",
       "Universität Regensburg - Lehrstuhl für Informat...          snippets user   \n",
       "Webis Group                                         information retrieval   \n",
       "\n",
       "                                                                     9  \n",
       "Bosch Center for Artificial Intelligence                     enhancing  \n",
       "Forschungszentrum L3S                                 efficient neural  \n",
       "GESIS - Leibniz-Institut für Sozialwissenschaften              queries  \n",
       "Max Planck Institute - Databases and Informatio...            quantity  \n",
       "TH Köln - Information Retrieval Research Group         academic search  \n",
       "TIB - Forschungsgruppe Visual Analytics                        layouts  \n",
       "Universität Bonn - Data Science & Intelligent S...             worldkg  \n",
       "Universität Mannheim - Data and Web Science Group        systems using  \n",
       "Universität Regensburg - Lehrstuhl für Informat...  influence featured  \n",
       "Webis Group                                                        pan  "
      ]
     },
     "execution_count": 151,
     "metadata": {},
     "output_type": "execute_result"
    }
   ],
   "source": [
    "pd.DataFrame(top_100).head(10).T"
   ]
  },
  {
   "cell_type": "code",
   "execution_count": null,
   "metadata": {},
   "outputs": [],
   "source": []
  }
 ],
 "metadata": {
  "kernelspec": {
   "display_name": "geo",
   "language": "python",
   "name": "python3"
  },
  "language_info": {
   "codemirror_mode": {
    "name": "ipython",
    "version": 3
   },
   "file_extension": ".py",
   "mimetype": "text/x-python",
   "name": "python",
   "nbconvert_exporter": "python",
   "pygments_lexer": "ipython3",
   "version": "3.8.16"
  },
  "orig_nbformat": 4
 },
 "nbformat": 4,
 "nbformat_minor": 2
}
