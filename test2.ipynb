{
 "cells": [
  {
   "cell_type": "code",
   "execution_count": 1,
   "metadata": {},
   "outputs": [],
   "source": [
    "import json"
   ]
  },
  {
   "cell_type": "code",
   "execution_count": 74,
   "metadata": {},
   "outputs": [],
   "source": [
    "with open(\"data/interim/dblp_sigir_openalex.jsonl\") as file:\n",
    "    publications = [json.loads(line) for line in file]"
   ]
  },
  {
   "cell_type": "code",
   "execution_count": 75,
   "metadata": {},
   "outputs": [],
   "source": [
    "# filter for german publications\n",
    "publications_german = []\n",
    "for publication in publications:\n",
    "    for author in publication[\"openalex\"][\"authorships\"]:\n",
    "        if \"DE\" in author[\"countries\"]:\n",
    "            publications_german.append(publication)"
   ]
  },
  {
   "cell_type": "code",
   "execution_count": 76,
   "metadata": {},
   "outputs": [
    {
     "data": {
      "text/plain": [
       "760"
      ]
     },
     "execution_count": 76,
     "metadata": {},
     "output_type": "execute_result"
    }
   ],
   "source": [
    "len(publications_german)"
   ]
  },
  {
   "cell_type": "code",
   "execution_count": 77,
   "metadata": {},
   "outputs": [],
   "source": [
    "def enrich_authors_institutions_ror(author):\n",
    "    enriched_institutions = []\n",
    "    for institution in author[\"institutions\"]:\n",
    "        ror_data = ror.get(institution[\"ror\"])\n",
    "        institution[\"ror_data\"] = ror_data\n",
    "        enriched_institutions.append(institution)\n",
    "    author[\"institutions\"] = enriched_institutions\n",
    "    return author\n",
    "\n",
    "\n",
    "def enrich_authors_ror(publication):\n",
    "    enriched_authors = [enrich_authors_institutions_ror(author) for author in publication[\"openalex\"][\"authorships\"]]\n",
    "    publication[\"openalex\"][\"authorships\"] = enriched_authors\n",
    "    return publication\n",
    "\n",
    "enriched_publications = [enrich_authors_ror(publication) for publication in publications_german]"
   ]
  },
  {
   "cell_type": "code",
   "execution_count": 33,
   "metadata": {},
   "outputs": [],
   "source": [
    "from ir_community.ir_community import load_ror_dump"
   ]
  },
  {
   "cell_type": "code",
   "execution_count": 58,
   "metadata": {},
   "outputs": [],
   "source": [
    "ror = load_ror_dump()"
   ]
  },
  {
   "cell_type": "code",
   "execution_count": 62,
   "metadata": {},
   "outputs": [
    {
     "data": {
      "text/plain": [
       "{'id': 'https://ror.org/03czfpz43',\n",
       " 'name': 'Emory University',\n",
       " 'types': ['Education'],\n",
       " 'links': ['http://www.emory.edu/home/index.html'],\n",
       " 'aliases': [],\n",
       " 'acronyms': [],\n",
       " 'status': 'active',\n",
       " 'wikipedia_url': 'http://en.wikipedia.org/wiki/Emory_University',\n",
       " 'labels': [],\n",
       " 'email_address': '',\n",
       " 'ip_addresses': [],\n",
       " 'established': 1836,\n",
       " 'country': {'country_code': 'US', 'country_name': 'United States'},\n",
       " 'relationships': [{'type': 'Related',\n",
       "   'label': 'Atlanta VA Medical Center',\n",
       "   'id': 'https://ror.org/04z89xx32'},\n",
       "  {'type': 'Related',\n",
       "   'label': \"Children's Healthcare of Atlanta\",\n",
       "   'id': 'https://ror.org/050fhx250'},\n",
       "  {'type': 'Related',\n",
       "   'label': 'Emory Rehabilitation Hospital',\n",
       "   'id': 'https://ror.org/02sfkc120'},\n",
       "  {'type': 'Related',\n",
       "   'label': 'Emory University Hospital',\n",
       "   'id': 'https://ror.org/05dm4ck87'},\n",
       "  {'type': 'Related',\n",
       "   'label': 'Emory University Hospital Midtown',\n",
       "   'id': 'https://ror.org/02aknh966'},\n",
       "  {'type': 'Related',\n",
       "   'label': 'Grady Memorial Hospital',\n",
       "   'id': 'https://ror.org/009hj8759'},\n",
       "  {'type': 'Related',\n",
       "   'label': 'Henrietta Egleston Hospital for Children',\n",
       "   'id': 'https://ror.org/002q1t780'},\n",
       "  {'type': 'Child',\n",
       "   'label': 'Center for Translational Research in Neuroimaging and Data Science',\n",
       "   'id': 'https://ror.org/02qx6zf82'},\n",
       "  {'type': 'Child',\n",
       "   'label': 'Emory Eye Center',\n",
       "   'id': 'https://ror.org/00hr6kp69'},\n",
       "  {'type': 'Child',\n",
       "   'label': 'The Wallace H. Coulter Department of Biomedical Engineering',\n",
       "   'id': 'https://ror.org/02j15s898'},\n",
       "  {'type': 'Child',\n",
       "   'label': 'Woodruff Health Sciences Center',\n",
       "   'id': 'https://ror.org/01xm4tt59'}],\n",
       " 'addresses': [{'line': None,\n",
       "   'lat': 33.792787,\n",
       "   'lng': -84.32401,\n",
       "   'postcode': None,\n",
       "   'primary': False,\n",
       "   'city': 'Atlanta',\n",
       "   'state': 'Georgia',\n",
       "   'state_code': 'US-GA',\n",
       "   'country_geonames_id': 6252001,\n",
       "   'geonames_city': {'id': 4180439,\n",
       "    'city': 'Atlanta',\n",
       "    'nuts_level1': {'code': None, 'name': None},\n",
       "    'nuts_level2': {'code': None, 'name': None},\n",
       "    'nuts_level3': {'code': None, 'name': None},\n",
       "    'geonames_admin1': {'id': 4197000,\n",
       "     'name': 'Georgia',\n",
       "     'ascii_name': 'Georgia',\n",
       "     'code': 'US.GA'},\n",
       "    'geonames_admin2': {'id': 4196508,\n",
       "     'name': 'Fulton County',\n",
       "     'ascii_name': 'Fulton County',\n",
       "     'code': 'US.GA.121'},\n",
       "    'license': {'attribution': 'Data from geonames.org under a CC-BY 3.0 license',\n",
       "     'license': 'http://creativecommons.org/licenses/by/3.0/'}}}],\n",
       " 'external_ids': {'ISNI': {'preferred': None, 'all': ['0000 0001 0941 6502']},\n",
       "  'FundRef': {'preferred': '100006939',\n",
       "   'all': ['100006939',\n",
       "    '100007814',\n",
       "    '100007623',\n",
       "    '100010416',\n",
       "    '100008374',\n",
       "    '100007667',\n",
       "    '100006786',\n",
       "    '100006529',\n",
       "    '100006528',\n",
       "    '100005833']},\n",
       "  'OrgRef': {'preferred': '42730', 'all': ['42730', '1391893', '6568260']},\n",
       "  'Wikidata': {'preferred': None, 'all': ['Q621043']},\n",
       "  'GRID': {'preferred': 'grid.189967.8', 'all': 'grid.189967.8'}}}"
      ]
     },
     "execution_count": 62,
     "metadata": {},
     "output_type": "execute_result"
    }
   ],
   "source": [
    "ror_data"
   ]
  },
  {
   "cell_type": "code",
   "execution_count": null,
   "metadata": {},
   "outputs": [],
   "source": []
  }
 ],
 "metadata": {
  "kernelspec": {
   "display_name": ".venv",
   "language": "python",
   "name": "python3"
  },
  "language_info": {
   "codemirror_mode": {
    "name": "ipython",
    "version": 3
   },
   "file_extension": ".py",
   "mimetype": "text/x-python",
   "name": "python",
   "nbconvert_exporter": "python",
   "pygments_lexer": "ipython3",
   "version": "3.12.0"
  }
 },
 "nbformat": 4,
 "nbformat_minor": 2
}
